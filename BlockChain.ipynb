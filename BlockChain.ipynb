{
 "cells": [
  {
   "cell_type": "code",
   "execution_count": 3,
   "metadata": {},
   "outputs": [
    {
     "name": "stdout",
     "output_type": "stream",
     "text": [
      "5\n",
      "\u001b[35mThe genesis block has been created.\u001b[0m\n",
      "\u001b[35mPrevious Block Hash: 0\u001b[0m\n",
      "\u001b[35mTimestamp: 2020-03-13 02:52:41.521174\u001b[0m\n",
      "\u001b[35mData: 0\u001b[0m\n",
      "\u001b[35mHash: 177970fc2efb017a0c5aa0ecb14cdb97302fd01b0a2aae540d46c4309da545df\u001b[0m\n",
      "\n",
      "Block #1 created.\u001b[0m\n",
      "Previous Block Hash: 177970fc2efb017a0c5aa0ecb14cdb97302fd01b0a2aae540d46c4309da545df\n",
      "Timestamp: 2020-03-13 02:52:41.522171\n",
      "Data: Block number 1\n",
      "Hash: 4f4b009a9d9545af2406809a09719de9073860d530968e90c6448e9f7012ee7d\n",
      "\n",
      "Block #2 created.\u001b[0m\n",
      "Previous Block Hash: 4f4b009a9d9545af2406809a09719de9073860d530968e90c6448e9f7012ee7d\n",
      "Timestamp: 2020-03-13 02:52:41.522171\n",
      "Data: Block number 2\n",
      "Hash: 60cb938468406fd26c12f02a374116de265400bf5fb151cb23c531171b1e9c9f\n",
      "\n",
      "Block #3 created.\u001b[0m\n",
      "Previous Block Hash: 60cb938468406fd26c12f02a374116de265400bf5fb151cb23c531171b1e9c9f\n",
      "Timestamp: 2020-03-13 02:52:41.522171\n",
      "Data: Block number 3\n",
      "Hash: 5dd510e375f4bf20610eb8ea3fb36c3bc5c7ac8403f0fa413474c04255bef0e9\n",
      "\n",
      "Block #4 created.\u001b[0m\n",
      "Previous Block Hash: 5dd510e375f4bf20610eb8ea3fb36c3bc5c7ac8403f0fa413474c04255bef0e9\n",
      "Timestamp: 2020-03-13 02:52:41.522171\n",
      "Data: Block number 4\n",
      "Hash: 47be450d60411376a565fea6674d13a2784633176ed27ef542a688cca0f466c8\n",
      "\n"
     ]
    }
   ],
   "source": [
    "from block import Block\n",
    "from termcolor import colored\n",
    "import datetime\n",
    "n = int(input())\n",
    "num_blocks_to_add = n\n",
    "block_chain = [Block.create_genesis_block()]\n",
    "#block geeration\n",
    "print(colored(\"The genesis block has been created.\", color ='magenta'))\n",
    "print(colored(\"Previous Block Hash: %s\" % block_chain[0].previous_block_hash,color ='magenta'))\n",
    "print(colored(\"Timestamp: %s\" % block_chain[0].timestamp,color ='magenta'))\n",
    "print(colored(\"Data: %s\" % block_chain[0].data,color ='magenta'))\n",
    "print(colored(\"Hash: %s\" % block_chain[0].hash,color ='magenta'))\n",
    "print()\n",
    "#creating multiple blocks\n",
    "for i in range(1, num_blocks_to_add):\n",
    "    block_chain.append(Block(block_chain[i-1].hash,\n",
    "                             \"Block number %d\" % i,\n",
    "                             datetime.datetime.now()))\n",
    "    print(colored(\"Block #%d created.\" % i, ))\n",
    "    print(\"Previous Block Hash: %s\" % block_chain[-1].previous_block_hash)\n",
    "    print(\"Timestamp: %s\" % block_chain[-1].timestamp)\n",
    "    print(\"Data: %s\" % block_chain[-1].data)\n",
    "    print(\"Hash: %s\" % block_chain[-1].hash)\n",
    "    print()"
   ]
  }
 ],
 "metadata": {
  "kernelspec": {
   "display_name": "Python 3",
   "language": "python",
   "name": "python3"
  },
  "language_info": {
   "codemirror_mode": {
    "name": "ipython",
    "version": 3
   },
   "file_extension": ".py",
   "mimetype": "text/x-python",
   "name": "python",
   "nbconvert_exporter": "python",
   "pygments_lexer": "ipython3",
   "version": "3.7.6"
  }
 },
 "nbformat": 4,
 "nbformat_minor": 2
}
