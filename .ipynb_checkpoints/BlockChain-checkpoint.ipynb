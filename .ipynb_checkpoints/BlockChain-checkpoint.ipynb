{
 "cells": [
  {
   "cell_type": "code",
   "execution_count": 2,
   "metadata": {},
   "outputs": [
    {
     "name": "stdout",
     "output_type": "stream",
     "text": [
      "5\n",
      "\u001b[35mThe genesis block has been created.\u001b[0m\n",
      "\u001b[35mPrevious Block Hash: 0\u001b[0m\n",
      "\u001b[35mTimestamp: 2020-03-13 02:51:54.444672\u001b[0m\n",
      "\u001b[35mData: 0\u001b[0m\n",
      "\u001b[35mHash: 9d4dc81230ff34e09bce4a62202bab8f9030e98bb95acf0975457d8f29d6fe3e\u001b[0m\n",
      "\n",
      "Block #1 created.\u001b[0m\n",
      "Previous Block Hash: 9d4dc81230ff34e09bce4a62202bab8f9030e98bb95acf0975457d8f29d6fe3e\n",
      "Timestamp: 2020-03-13 02:51:54.446686\n",
      "Data: Block number 1\n",
      "Hash: f6ef25446a04a93243de5cebc522ef2b03ea11bb16bcafe1e24adb19cd3a29ea\n",
      "\n",
      "Block #2 created.\u001b[0m\n",
      "Previous Block Hash: f6ef25446a04a93243de5cebc522ef2b03ea11bb16bcafe1e24adb19cd3a29ea\n",
      "Timestamp: 2020-03-13 02:51:54.446686\n",
      "Data: Block number 2\n",
      "Hash: fa7c916d89bef60800f26784840f8d8c9a59d598ce3f94014921ed1c425d469f\n",
      "\n",
      "Block #3 created.\u001b[0m\n",
      "Previous Block Hash: fa7c916d89bef60800f26784840f8d8c9a59d598ce3f94014921ed1c425d469f\n",
      "Timestamp: 2020-03-13 02:51:54.446686\n",
      "Data: Block number 3\n",
      "Hash: 3a4c5186c29ea9fef8102b5ea37b6b04bf69628fe0dcaf85a1fa284dfa7b6362\n",
      "\n",
      "Block #4 created.\u001b[0m\n",
      "Previous Block Hash: 3a4c5186c29ea9fef8102b5ea37b6b04bf69628fe0dcaf85a1fa284dfa7b6362\n",
      "Timestamp: 2020-03-13 02:51:54.446686\n",
      "Data: Block number 4\n",
      "Hash: 95118810802a6079404ee028c693630c6b8342694c403b05f5460107ac7bee3f\n",
      "\n"
     ]
    }
   ],
   "source": [
    "from block import Block\n",
    "from termcolor import colored\n",
    "import datetime\n",
    "n = int(input())\n",
    "num_blocks_to_add = n\n",
    "block_chain = [Block.create_genesis_block()]\n",
    "#block geeration\n",
    "print(colored(\"The genesis block has been created.\", color ='magenta'))\n",
    "print(colored(\"Previous Block Hash: %s\" % block_chain[0].previous_block_hash,color ='magenta'))\n",
    "print(colored(\"Timestamp: %s\" % block_chain[0].timestamp,color ='magenta'))\n",
    "print(colored(\"Data: %s\" % block_chain[0].data,color ='magenta'))\n",
    "print(colored(\"Hash: %s\" % block_chain[0].hash,color ='magenta'))\n",
    "print()\n",
    "#creating multiple blocks\n",
    "for i in range(1, num_blocks_to_add):\n",
    "    block_chain.append(Block(block_chain[i-1].hash,\n",
    "                             \"Block number %d\" % i,\n",
    "                             datetime.datetime.now()))\n",
    "    print(colored(\"Block #%d created.\" % i, ))\n",
    "    print(\"Previous Block Hash: %s\" % block_chain[-1].previous_block_hash)\n",
    "    print(\"Timestamp: %s\" % block_chain[-1].timestamp)\n",
    "    print(\"Data: %s\" % block_chain[-1].data)\n",
    "    print(\"Hash: %s\" % block_chain[-1].hash)\n",
    "    print()"
   ]
  }
 ],
 "metadata": {
  "kernelspec": {
   "display_name": "Python 3",
   "language": "python",
   "name": "python3"
  },
  "language_info": {
   "codemirror_mode": {
    "name": "ipython",
    "version": 3
   },
   "file_extension": ".py",
   "mimetype": "text/x-python",
   "name": "python",
   "nbconvert_exporter": "python",
   "pygments_lexer": "ipython3",
   "version": "3.7.6"
  }
 },
 "nbformat": 4,
 "nbformat_minor": 2
}
